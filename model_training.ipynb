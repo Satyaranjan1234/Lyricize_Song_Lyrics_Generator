{
 "cells": [
  {
   "cell_type": "code",
   "execution_count": 1,
   "id": "2fed34e2",
   "metadata": {},
   "outputs": [],
   "source": [
    "import os\n",
    "from tensorflow import keras as kr\n",
    "from keras.preprocessing.text import Tokenizer\n",
    "from keras.preprocessing.sequence import pad_sequences\n",
    "import pickle"
   ]
  },
  {
   "cell_type": "code",
   "execution_count": 2,
   "id": "ec523544",
   "metadata": {},
   "outputs": [],
   "source": [
    "song_dataset_dir = \"C:/Users/Tridebasis/dataset/songs dataset\"\n",
    "songs_folders = os.listdir(song_dataset_dir)\n",
    "text_data = []\n",
    "\n",
    "for folder in songs_folders:\n",
    "    folder_dir = os.path.join(song_dataset_dir , folder)\n",
    "    song_files = os.listdir(folder_dir)\n",
    "    for song_file in song_files:\n",
    "        song_file_dir = os.path.join(folder_dir , song_file)\n",
    "        with open(song_file_dir , 'r' , encoding='utf-8' ) as file:\n",
    "            data = file.read()\n",
    "            text_data.append(data)"
   ]
  },
  {
   "cell_type": "code",
   "execution_count": 3,
   "id": "9095fa26",
   "metadata": {},
   "outputs": [],
   "source": [
    "token = Tokenizer(oov_token= '<oov>')\n",
    "token.fit_on_texts(text_data)"
   ]
  },
  {
   "cell_type": "code",
   "execution_count": 4,
   "id": "dee679c2",
   "metadata": {},
   "outputs": [],
   "source": [
    "vocal_size = len(token.word_index)+1\n",
    "text_seq = token.texts_to_sequences(text_data)\n",
    "input_seq = []\n",
    "\n",
    "for sentence in text_seq:\n",
    "    for i in range(195):\n",
    "        input_seq.append(sentence[:i+1])\n",
    "          \n",
    "input_pad = pad_sequences(input_seq)"
   ]
  },
  {
   "cell_type": "code",
   "execution_count": 5,
   "id": "cc35e796",
   "metadata": {},
   "outputs": [],
   "source": [
    "X = input_pad[: , :-1]\n",
    "Y = input_pad[: , -1]"
   ]
  },
  {
   "cell_type": "code",
   "execution_count": 6,
   "id": "c1e86d5b",
   "metadata": {},
   "outputs": [],
   "source": [
    "model = kr.Sequential([\n",
    "    kr.layers.Embedding(vocal_size , 100),\n",
    "    kr.layers.GRU(100),\n",
    "    kr.layers.Dense(len(Y) , activation = 'softmax')\n",
    "])"
   ]
  },
  {
   "cell_type": "code",
   "execution_count": 7,
   "id": "1cd484ff",
   "metadata": {},
   "outputs": [],
   "source": [
    "model.compile(optimizer = 'adam' , loss = 'sparse_categorical_crossentropy' , metrics = ['accuracy'])"
   ]
  },
  {
   "cell_type": "code",
   "execution_count": 8,
   "id": "7205150b",
   "metadata": {
    "scrolled": true
   },
   "outputs": [
    {
     "name": "stdout",
     "output_type": "stream",
     "text": [
      "Epoch 1/12\n",
      "1560/1560 [==============================] - 258s 164ms/step - loss: 6.9838 - accuracy: 0.0593\n",
      "Epoch 2/12\n",
      "1560/1560 [==============================] - 283s 181ms/step - loss: 5.4865 - accuracy: 0.1847\n",
      "Epoch 3/12\n",
      "1560/1560 [==============================] - 283s 181ms/step - loss: 4.6459 - accuracy: 0.2658\n",
      "Epoch 4/12\n",
      "1560/1560 [==============================] - 287s 184ms/step - loss: 3.9919 - accuracy: 0.3352\n",
      "Epoch 5/12\n",
      "1560/1560 [==============================] - 286s 183ms/step - loss: 3.4499 - accuracy: 0.4007\n",
      "Epoch 6/12\n",
      "1560/1560 [==============================] - 292s 187ms/step - loss: 3.0013 - accuracy: 0.4603\n",
      "Epoch 7/12\n",
      "1560/1560 [==============================] - 296s 189ms/step - loss: 2.6217 - accuracy: 0.5158\n",
      "Epoch 8/12\n",
      "1560/1560 [==============================] - 291s 187ms/step - loss: 2.3041 - accuracy: 0.5668\n",
      "Epoch 9/12\n",
      "1560/1560 [==============================] - 287s 184ms/step - loss: 2.0303 - accuracy: 0.6145\n",
      "Epoch 10/12\n",
      "1560/1560 [==============================] - 286s 183ms/step - loss: 1.7999 - accuracy: 0.6536\n",
      "Epoch 11/12\n",
      "1560/1560 [==============================] - 291s 187ms/step - loss: 1.6046 - accuracy: 0.6882\n",
      "Epoch 12/12\n",
      "1560/1560 [==============================] - 287s 184ms/step - loss: 1.4400 - accuracy: 0.7172\n"
     ]
    },
    {
     "data": {
      "text/plain": [
       "<keras.src.callbacks.History at 0x2af08b34e90>"
      ]
     },
     "execution_count": 8,
     "metadata": {},
     "output_type": "execute_result"
    }
   ],
   "source": [
    "model.fit(X , Y , epochs = 12)"
   ]
  },
  {
   "cell_type": "code",
   "execution_count": 9,
   "id": "bf6458cc",
   "metadata": {},
   "outputs": [
    {
     "name": "stdout",
     "output_type": "stream",
     "text": [
      "INFO:tensorflow:Assets written to: Text_model\\assets\n"
     ]
    },
    {
     "name": "stderr",
     "output_type": "stream",
     "text": [
      "INFO:tensorflow:Assets written to: Text_model\\assets\n"
     ]
    }
   ],
   "source": [
    "model.save('Text_model')"
   ]
  },
  {
   "cell_type": "code",
   "execution_count": 10,
   "id": "304f137d",
   "metadata": {},
   "outputs": [],
   "source": [
    "with open('tokenizer.pickle', 'wb') as handle:\n",
    "    pickle.dump(token, handle, protocol=pickle.HIGHEST_PROTOCOL)"
   ]
  },
  {
   "cell_type": "code",
   "execution_count": null,
   "id": "1fa56b59",
   "metadata": {},
   "outputs": [],
   "source": []
  }
 ],
 "metadata": {
  "kernelspec": {
   "display_name": "Python 3 (ipykernel)",
   "language": "python",
   "name": "python3"
  },
  "language_info": {
   "codemirror_mode": {
    "name": "ipython",
    "version": 3
   },
   "file_extension": ".py",
   "mimetype": "text/x-python",
   "name": "python",
   "nbconvert_exporter": "python",
   "pygments_lexer": "ipython3",
   "version": "3.11.6"
  }
 },
 "nbformat": 4,
 "nbformat_minor": 5
}
